{
 "cells": [
  {
   "cell_type": "code",
   "execution_count": 2,
   "metadata": {},
   "outputs": [],
   "source": [
    "from pathlib import Path\n",
    "import torch\n",
    "import torch.nn as nn\n",
    "from config import get_config, latest_weights_file_path\n",
    "from train import get_model, get_ds, run_validation\n"
   ]
  },
  {
   "cell_type": "code",
   "execution_count": 3,
   "metadata": {},
   "outputs": [
    {
     "name": "stdout",
     "output_type": "stream",
     "text": [
      "Using device: cuda\n",
      "Max length of source sentence: 309\n",
      "Max length of target sentence: 274\n"
     ]
    },
    {
     "data": {
      "text/plain": [
       "<All keys matched successfully>"
      ]
     },
     "execution_count": 3,
     "metadata": {},
     "output_type": "execute_result"
    }
   ],
   "source": [
    "# Define the device\n",
    "device = torch.device(\"cuda\" if torch.cuda.is_available() else \"cpu\")\n",
    "print(\"Using device:\", device)\n",
    "config = get_config()\n",
    "train_dataloader, val_dataloader, tokenizer_src, tokenizer_tgt = get_ds(config)\n",
    "model = get_model(config, tokenizer_src.get_vocab_size(), tokenizer_tgt.get_vocab_size()).to(device)\n",
    "\n",
    "# Load the pretrained weights\n",
    "model_filename = latest_weights_file_path(config)\n",
    "state = torch.load(model_filename)\n",
    "model.load_state_dict(state['model_state_dict'])"
   ]
  },
  {
   "cell_type": "code",
   "execution_count": 4,
   "metadata": {},
   "outputs": [
    {
     "name": "stdout",
     "output_type": "stream",
     "text": [
      "--------------------------------------------------------------------------------\n",
      "    SOURCE: When their mother caught them at this pursuit, she began in Levin's presence to impress on them how much trouble what they were wasting had cost grown-up people, that that trouble had been taken for them, that if they broke cups they would not have anything to drink tea out of, and if they spilt milk they would not have anything to eat and would die of hunger.\n",
      "    TARGET: La madre, coltili sul fatto, in presenza di Levin aveva cominciato a predicare loro quanta fatica costasse ai grandi quello che loro distruggevano, e che questa fatica si faceva per loro, che se avessero rotto le tazze, non avrebbero avuto dove bere il tè, e se avessero versato il latte, non avrebbero avuto nulla da mangiare e sarebbero morti di fame.\n",
      " PREDICTED: Quando la madre li mise a notare i discorsi che avevano , nella presenza di Levin , come loro tutti i di questi oggetti , che avevano rotto le tazze , s ’ erano messi fuori da mangiare e si sarebbero usciti soltanto i guanti , e se avessero versato il latte da mangiare e se non avessero potuto mangiare nulla da mangiare e bere , non avrebbero avuto bisogno di mangiare .\n",
      "--------------------------------------------------------------------------------\n",
      "    SOURCE: Then, remembering his brother Nicholas, he determined that he would never allow himself to forget him again, but would watch over him, keep him in sight, and be ready to help when things went hard with him.\n",
      "    TARGET: Dopo, ricordando il fratello Nikolaj, decise con se stesso di non dimenticarlo mai più, di aiutarlo invece, di non allontanarlo mai più dalla sua mente e di essere pronto a venirgli in aiuto quando si fosse trovato in cattive condizioni.\n",
      " PREDICTED: Poi , ricordando il fratello Nikolaj , decise con se stesso di non dimenticarlo mai più , di aiutarlo invece , di non allontanarlo mai più dalla sua mente e di essere pronto a venirgli in aiuto quando si fosse trovato in cattive condizioni .\n",
      "--------------------------------------------------------------------------------\n",
      "    SOURCE: 'In Kolok, I expect, and Nurse is with them.'\n",
      "    TARGET: — Al Kolok, forse, e la njanja è con lui.\n",
      " PREDICTED: — Al Kolok , forse , e la njanja è con lui .\n",
      "--------------------------------------------------------------------------------\n",
      "    SOURCE: His opinion of Russian women, whom he wanted to study, more than once made Vronsky flush with indignation.\n",
      "    TARGET: I suoi giudizi sulle donne russe che aveva desiderato conoscere avevano più di una volta costretto Vronskij ad arrossire d’indignazione.\n",
      " PREDICTED: I suoi giudizi sulle donne russe che aveva desiderato conoscere , più di una volta più costretto Vronskij ad arrossire d ’ indignazione .\n",
      "--------------------------------------------------------------------------------\n",
      "    SOURCE: \"One drift took me up to the waist; happily the snow is quite soft yet.\"\n",
      "    TARGET: In un punto sono affondato fino alla cintola nella neve.\n",
      " PREDICTED: — Una volta è tutta la vita ; ha la testa troppo calma .\n",
      "--------------------------------------------------------------------------------\n",
      "    SOURCE: She rang, and ordered the baby to be brought. 'I asked to be allowed to nurse her, and I wasn't; and now I am blamed.'\n",
      "    TARGET: Sempre lo stesso — Aleksej Aleksandrovic capì cosa significava questo “sempre lo stesso”; — è una bambina, e la fanno morire. — Sonò e ordinò di portare la bambina. — Ho chiesto di allattarla, non me l’hanno permesso, e ora si rimprovera proprio me.\n",
      " PREDICTED: Si dà , si diceva all ’ bambino : « Ho chiesto di essere la balia sulla balia , e non ho ragione ; ora , ora non posso abbandonare la bambina ”.\n",
      "--------------------------------------------------------------------------------\n",
      "    SOURCE: However, this bottle was not marked 'poison,' so Alice ventured to taste it, and finding it very nice, (it had, in fact, a sort of mixed flavour of cherry-tart, custard, pine-apple, roast turkey, toffee, and hot buttered toast,) she very soon finished it off.\n",
      "    TARGET: Quindi Alice si arrischiò a berne un sorso. Era una bevanda deliziosa (aveva un sapore misto di torta di ciliegie, di crema, d'ananasso, di gallinaccio arrosto, di torrone, e di crostini imburrati) e la tracannò d'un fiato.\n",
      " PREDICTED: Ma la minestra era . — Alice si arrischiò ad avere un sapore delizioso , — che un sapore , , e la birra , e la birra , e la del pane del burro s ' .\n",
      "--------------------------------------------------------------------------------\n",
      "    SOURCE: 'I am telling Constantine Dmitrich about Turovtsyn and the scarlet fever,' she said, leaning over toward her sister.\n",
      "    TARGET: Sai, racconto a Konstantin Dmitric quel che ha fatto Tuškevic durante la scarlattina — disse chinandosi verso la sorella.\n",
      " PREDICTED: — Io dico che Konstantin Dmitric Tuškevic e che il scarlattina — disse chinandosi verso la sorella .\n",
      "--------------------------------------------------------------------------------\n",
      "    SOURCE: There is need of a medical centre after all.\n",
      "    TARGET: In primo luogo, il posto di assistenza medica è servito anche a te.\n",
      " PREDICTED: C ’ è bisogno di un posto di assistenza medica .\n",
      "--------------------------------------------------------------------------------\n",
      "    SOURCE: 'My God!\n",
      "    TARGET: “Dio mio, che ho fatto!\n",
      " PREDICTED: — Dio mio !\n",
      "--------------------------------------------------------------------------------\n"
     ]
    }
   ],
   "source": [
    "run_validation(model, val_dataloader, tokenizer_src, tokenizer_tgt, config['seq_len'], device, lambda msg: print(msg), 0, None, num_examples=10)"
   ]
  },
  {
   "cell_type": "code",
   "execution_count": null,
   "metadata": {},
   "outputs": [],
   "source": []
  },
  {
   "cell_type": "code",
   "execution_count": null,
   "metadata": {},
   "outputs": [],
   "source": []
  },
  {
   "cell_type": "code",
   "execution_count": null,
   "metadata": {},
   "outputs": [],
   "source": []
  }
 ],
 "metadata": {
  "kernelspec": {
   "display_name": "transformer",
   "language": "python",
   "name": "python3"
  },
  "language_info": {
   "codemirror_mode": {
    "name": "ipython",
    "version": 3
   },
   "file_extension": ".py",
   "mimetype": "text/x-python",
   "name": "python",
   "nbconvert_exporter": "python",
   "pygments_lexer": "ipython3",
   "version": "3.12.2"
  },
  "orig_nbformat": 4
 },
 "nbformat": 4,
 "nbformat_minor": 2
}
